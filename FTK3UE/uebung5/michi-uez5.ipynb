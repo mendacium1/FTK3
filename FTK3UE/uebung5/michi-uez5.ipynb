{
 "cells": [
  {
   "cell_type": "markdown",
   "metadata": {},
   "source": [
    "## UEZ5"
   ]
  },
  {
   "cell_type": "code",
   "execution_count": 2,
   "metadata": {},
   "outputs": [],
   "source": [
    "import si\n",
    "import math"
   ]
  },
  {
   "cell_type": "markdown",
   "metadata": {},
   "source": [
    "### 1. \n",
    "Gegeben ist die elliptische Kurve $ε: y^2 = x^3 + 3x + 6$ über Z_11 . Bestimme die Ordnung der Kurve, indem du alle Punkte der Kurve ermittelst."
   ]
  },
  {
   "cell_type": "code",
   "execution_count": 3,
   "metadata": {},
   "outputs": [
    {
     "name": "stdout",
     "output_type": "stream",
     "text": [
      "Punkte:\n",
      "(2, 3)\n",
      "(2, 8)\n",
      "(3, 3)\n",
      "(3, 8)\n",
      "(4, 4)\n",
      "(4, 7)\n",
      "(5, 5)\n",
      "(5, 6)\n",
      "(6, 3)\n",
      "(6, 8)\n",
      "(8, 5)\n",
      "(8, 6)\n",
      "(9, 5)\n",
      "(9, 6)\n",
      "None\n",
      "Anzahl der Punkte auf der Kurve: 15\n",
      "Mit si Modul:\n",
      "[Point( EC( 3, 6, 11 ), None ), Point( EC( 3, 6, 11 ), ( 2, 3 ) ), Point( EC( 3, 6, 11 ), ( 2, 8 ) ), Point( EC( 3, 6, 11 ), ( 3, 3 ) ), Point( EC( 3, 6, 11 ), ( 3, 8 ) ), Point( EC( 3, 6, 11 ), ( 4, 4 ) ), Point( EC( 3, 6, 11 ), ( 4, 7 ) ), Point( EC( 3, 6, 11 ), ( 5, 5 ) ), Point( EC( 3, 6, 11 ), ( 5, 6 ) ), Point( EC( 3, 6, 11 ), ( 6, 3 ) ), Point( EC( 3, 6, 11 ), ( 6, 8 ) ), Point( EC( 3, 6, 11 ), ( 8, 5 ) ), Point( EC( 3, 6, 11 ), ( 8, 6 ) ), Point( EC( 3, 6, 11 ), ( 9, 5 ) ), Point( EC( 3, 6, 11 ), ( 9, 6 ) )]\n",
      "|████████████████████████████████████████| 11/11 [100%] in 0.0s (5232.35/s)     \n",
      "Anzahl der Punkte auf der Kurve: 15 oder 15\n",
      "Anzahl der Punkte auf der Kurve zwischen: (6, 18)\n"
     ]
    }
   ],
   "source": [
    "def find_points_on_curve(a, b, p):\n",
    "    points = []\n",
    "\n",
    "    for x in range(p):\n",
    "        y2 = (x**3 + a * x + b) % p\n",
    "        # check ob Punkt auf der Kurve\n",
    "        if pow(y2, (p - 1) // 2, p) == 1:\n",
    "            y = si.sqrts_mod(y2, p)[0]\n",
    "            points.append((x, y % p))\n",
    "            points.append((x, (-y) % p))\n",
    "\n",
    "    points.append(None)  # neutrales Element\n",
    "\n",
    "    return points\n",
    "\n",
    "\n",
    "a = 3\n",
    "b = 6\n",
    "p = 11\n",
    "\n",
    "curve_points = find_points_on_curve(a, b, p)\n",
    "\n",
    "print(\"Punkte:\")\n",
    "for point in curve_points:\n",
    "    print(point)\n",
    "\n",
    "order = len(curve_points)\n",
    "print(f\"Anzahl der Punkte auf der Kurve: {order}\")\n",
    "\n",
    "print(\"Mit si Modul:\")\n",
    "curve = si.EC(3, 6, 11)\n",
    "print(list(curve.points()))\n",
    "print(f\"Anzahl der Punkte auf der Kurve: {len(list(curve.points()))} oder {curve.order()}\")\n",
    "print(f\"Anzahl der Punkte auf der Kurve zwischen: {si.hasse_bounds(p)}\")"
   ]
  },
  {
   "cell_type": "markdown",
   "metadata": {},
   "source": [
    "### 2.\n",
    " Gegeben ist wieder die elliptische Kurve $ε: y^2 = x^3 + 3x + 6$ über $Z_{11}$ , von der du bereits die Ordnung kennst. Überlege, welche Punktordnungen auf dieser Kurve   überhaupt möglich sind. Bestimme dann die Ordnung der folgenden Punkte.\n",
    "- (a) (9, 5)\n",
    "- (b) (4, 4)\n",
    "- (c) (2, 3)"
   ]
  },
  {
   "cell_type": "markdown",
   "metadata": {},
   "source": [
    "Die Ordnungen der Punkte auf der Kurve müssen Teiler von 15 sein. (3, 5)"
   ]
  },
  {
   "cell_type": "code",
   "execution_count": 7,
   "metadata": {},
   "outputs": [
    {
     "name": "stdout",
     "output_type": "stream",
     "text": [
      "|████████████████████████████████████████| 11/11 [100%] in 0.0s (11189.24/s)    \n",
      "Ordnung=15, mögliche Ordnungnen: 1, [3, 5], 15\n",
      "Ordung von a = 3\n",
      "Ordung von b = 15\n",
      "Ordung von c = 5\n"
     ]
    }
   ],
   "source": [
    "curve = si.EC(3, 6, 11)\n",
    "\n",
    "order = curve.order()  # 15\n",
    "prime_factors = si.prime_factors(order)\n",
    "print(f\"Ordnung = {order}, mögliche Ordnungnen: 1, {prime_factors}, {order}\")\n",
    "\n",
    "point_a = si.Point(curve, (9, 5))\n",
    "point_b = si.Point(curve, (4, 4))\n",
    "point_c = si.Point(curve, (2, 3))\n",
    "\n",
    "print(f\"Ordung von a = {point_a.order()}\")  # point_a + point_a + point_a\n",
    "print(f\"Ordung von b = {point_b.order()}\")  # erzeugendes Element\n",
    "print(f\"Ordung von c = {point_c.order()}\")"
   ]
  },
  {
   "cell_type": "markdown",
   "metadata": {},
   "source": [
    "### 3.\n",
    " Du kennst aus Beispiel 2 ein erzeugendes Element auf der elliptischen\n",
    "Kurve $ε: y^2 = x^3 + 3x + 6$ über $Z_{11}$ . Berechne daraus mithilfe von Satz\n",
    "2.13 ein Element der Ordnung 5."
   ]
  },
  {
   "cell_type": "code",
   "execution_count": 6,
   "metadata": {},
   "outputs": [
    {
     "name": "stdout",
     "output_type": "stream",
     "text": [
      "|████████████████████████████████████████| 11/11 [100%] in 0.0s (10759.31/s)    \n",
      "Ordnung Kurve: 15\n",
      "Ordnung Punkt: 15\n",
      "Punkt mit Ordnung 5: ( 5, 5 )\n",
      "5\n"
     ]
    }
   ],
   "source": [
    "curve = si.EC(3, 6, 11)\n",
    "\n",
    "order = curve.order()  # 15\n",
    "\n",
    "point = si.Point(curve, (4, 4))\n",
    "p_order = point.order()  # 15\n",
    "\n",
    "\n",
    "print(f\"Ordnung Kurve: {order}\")\n",
    "print(f\"Ordnung Punkt: {p_order}\")\n",
    "\n",
    "# alpha = 5, w = 15\n",
    "# ord(g^alpha) = w / ggt(alpha, w)\n",
    "# ord(g^alpha) = 15 / ggt(5, 15) = 15/5 = 3\n",
    "\n",
    "point_order_5 = point + point + point # oder\n",
    "point_order_5 = 3*point\n",
    "\n",
    "print(f\"Punkt mit Ordnung 5: {point_order_5}\")\n",
    "print(point_order_5.order())"
   ]
  },
  {
   "cell_type": "markdown",
   "metadata": {},
   "source": [
    "### 4.\n",
    "Gegeben ist die elliptische Kurve $ε: y^2 = x^3 +28x+42$ der primen Ordnung\n",
    "103 über $Z_{89}$ . Berechne den diskreten Logarithmus von (47, 28) zur Basis\n",
    "(2, 27) auf ε mit dem Baby-Step-Giant-Step-Algorithmus."
   ]
  },
  {
   "cell_type": "code",
   "execution_count": 49,
   "metadata": {},
   "outputs": [
    {
     "name": "stdout",
     "output_type": "stream",
     "text": [
      "|████████████████████████████████████████| 89/89 [100%] in 0.2s (396.08/s)      \n",
      "70\n",
      "alpha is correct\n"
     ]
    }
   ],
   "source": [
    "def baby_step_giant_step(curve, base_point, target_point):\n",
    "    w = base_point.order()\n",
    "    N = math.isqrt(w) + 1\n",
    "\n",
    "    baby_steps = []\n",
    "    point = si.Point(curve, None)\n",
    "    # Baby Steps\n",
    "    for r in range(N):\n",
    "        baby_steps.append(point)\n",
    "        point = point + base_point\n",
    "\n",
    "    # Kehrwert von N*base_point\n",
    "    f = -(N * base_point)\n",
    "    giant_step = target_point  # erster wert\n",
    "\n",
    "    # q = aktueller Schritt der Giant Steps.\n",
    "    for q in range(N):\n",
    "        if giant_step in baby_steps:\n",
    "            r = baby_steps.index(giant_step)  # rest\n",
    "            alpha = N * q + r\n",
    "            return alpha\n",
    "        # nächster giant step (giant_step + f)\n",
    "        giant_step = giant_step + f\n",
    "\n",
    "\n",
    "curve = si.EC(28, 42, 89)\n",
    "base_point = si.Point(curve, (2, 27))\n",
    "target_point = si.Point(curve, (47, 28))\n",
    "p = 89\n",
    "\n",
    "alpha = baby_step_giant_step(curve, base_point, target_point)\n",
    "print(alpha)\n",
    "if target_point == alpha * base_point:\n",
    "    print(\"alpha is correct\")"
   ]
  },
  {
   "cell_type": "markdown",
   "metadata": {},
   "source": [
    "### 5.\n",
    "Realisiere folgenden ECDH-Schlüsselaustausch. Alice und Bob einigen sich auf die elliptische Kurve $ε: y^2 = x^3 + 13x + 13$ über Z_23 und den Punkt G = (1, 2) mit Ordnung ω = 29 auf ε.\n",
    "\n",
    "(a) Alice wählt zufällig α = 8 und Bob wählt zufällig β = 18. Berechne, welche Nachrichten die beiden einander schicken.\n",
    "\n",
    "(b) Berechne den gemeinsamen Schlüssel, auf den die beiden sich so einigen."
   ]
  },
  {
   "cell_type": "code",
   "execution_count": 40,
   "metadata": {},
   "outputs": [
    {
     "name": "stdout",
     "output_type": "stream",
     "text": [
      "|████████████████████████████████████████| 23/23 [100%] in 0.1s (1276.94/s)     \n",
      "( 16, 19 )\n",
      "( 10, 4 )\n",
      "gemeinsamer Schlüssel: ( 1, 21 )\n",
      "gleicher Schlüssel: True\n"
     ]
    }
   ],
   "source": [
    "curve = si.EC(13, 13, 23)\n",
    "curve_order = curve.order()\n",
    "\n",
    "G = si.Point(curve, (1, 2))\n",
    "\n",
    "alpha = 8\n",
    "beta = 18\n",
    "\n",
    "# Alice an Bob\n",
    "A = alpha * G\n",
    "print(A)\n",
    "\n",
    "# Bob an Alice\n",
    "B = beta * G\n",
    "print(B)\n",
    "\n",
    "# gemeinsamer Schlüssel\n",
    "K_alice = alpha * B\n",
    "K_bob = beta * A\n",
    "\n",
    "print(f\"gemeinsamer Schlüssel: {K_alice}\")\n",
    "print(f\"gleicher Schlüssel: {K_alice == K_bob}\")"
   ]
  },
  {
   "cell_type": "markdown",
   "metadata": {},
   "source": [
    "### 6.\n",
    "Du wählst als ECDSA-Parameter die elliptische Kurve ε: y 2 = x3 + 5x + 200 über Z601 und den Punkt G = (3, 38) mit der Ordnung ω = 577 auf ε. Als Private Key wählst du zufällig α = 281.\n",
    "\n",
    "(a) Berechne deinen Public Key.\n",
    "\n",
    "(b) Berechne mit deinem Private Key eine Signatur für die Nachricht m mit dem Hashwert h(m) = 333 und k = 3.\n",
    "\n",
    "(c) Prüfe mit deinem Public Key die Signatur."
   ]
  },
  {
   "cell_type": "code",
   "execution_count": 5,
   "metadata": {},
   "outputs": [
    {
     "name": "stdout",
     "output_type": "stream",
     "text": [
      "(r, s) = (73, 217)\n",
      "new_r = 73\n",
      "Signatur gültig\n"
     ]
    }
   ],
   "source": [
    "curve = si.EC(5, 200, 601)\n",
    "\n",
    "G = si.Point(curve, (3, 38))\n",
    "w = 577\n",
    "alpha = 281\n",
    "\n",
    "# a) public key\n",
    "A = alpha * G\n",
    "\n",
    "# b)\n",
    "hash_m = 333\n",
    "k = 3\n",
    "r = (k * G).x % w\n",
    "s = pow(k, -1, w) * (hash_m + alpha * r) % w\n",
    "print(f\"(r, s) = {(r, s)}\")\n",
    "\n",
    "# c)\n",
    "if r < 1 and r >= w and s < 1 and s >= w:\n",
    "    print(\"Signatur ungültig\")\n",
    "    exit()\n",
    "\n",
    "s_inv = pow(s, -1, w)  #  = s^-1\n",
    "x = (s_inv * hash_m) % w\n",
    "y = (s_inv * r) % w\n",
    "\n",
    "new_r = (x * G + y * A).x % w\n",
    "print(f\"new_r = {new_r}\")\n",
    "\n",
    "if new_r == r:\n",
    "    print(\"Signatur gültig\")\n",
    "else: print(\"Signatur ungültig\")"
   ]
  },
  {
   "cell_type": "markdown",
   "metadata": {},
   "source": [
    "### 7."
   ]
  },
  {
   "cell_type": "markdown",
   "metadata": {},
   "source": [
    "https://cryptography.io/en/latest/hazmat/primitives/asymmetric\n",
    "\n",
    "a)\n",
    "\n",
    "Weierstrass-Kurven z.B.:\n",
    "- cryptography.hazmat.primitives.asymmetric.ec.SECP192R1\n",
    "- cryptography.hazmat.primitives.asymmetric.ec.SECP224R1\n",
    "- cryptography.hazmat.primitives.asymmetric.ec.SECP256R1    <--- Bsp.\n",
    "- cryptography.hazmat.primitives.asymmetric.ec.SECP384R1\n",
    "- cryptography.hazmat.primitives.asymmetric.ec.SECP521R1\n",
    "\n",
    "Montgomery-Kurven z.B.:\n",
    "- cryptography.hazmat.primitives.asymmetric.x25519.X25519\n",
    "- cryptography.hazmat.primitives.asymmetric.x448.X448\n",
    "\n",
    "Edwards-Kurven z.B.:\n",
    "- cryptography.hazmat.primitives.asymmetric.ed25519.Ed25519\n",
    "- cryptography.hazmat.primitives.asymmetric.ed448.Ed448\n",
    "\n"
   ]
  },
  {
   "cell_type": "code",
   "execution_count": 19,
   "metadata": {},
   "outputs": [
    {
     "name": "stdout",
     "output_type": "stream",
     "text": [
      "Gemeinsamer Schlüssel Alice: 0f17b7e74f44dc7595d9db6647e11579771e3d53f020547dcd4b2bba7a3b4b10\n",
      "Gemeinsamer Schlüssel Bob  : 0f17b7e74f44dc7595d9db6647e11579771e3d53f020547dcd4b2bba7a3b4b10\n"
     ]
    }
   ],
   "source": [
    "from cryptography.hazmat.backends import default_backend\n",
    "from cryptography.hazmat.primitives.asymmetric import ec\n",
    "\n",
    "\n",
    "def diffie_hellman_key_exchange():\n",
    "    private_key_alice = ec.generate_private_key(ec.SECP256R1(), default_backend())\n",
    "    public_key_alice = private_key_alice.public_key()\n",
    "\n",
    "    private_key_bob = ec.generate_private_key(ec.SECP256R1(), default_backend())\n",
    "    public_key_bob = private_key_bob.public_key()\n",
    "\n",
    "    shared_key_alice = private_key_alice.exchange(ec.ECDH(), public_key_bob)\n",
    "    shared_key_bob = private_key_bob.exchange(ec.ECDH(), public_key_alice)\n",
    "\n",
    "    print(f\"Gemeinsamer Schlüssel Alice: {shared_key_alice.hex()}\")\n",
    "    print(f\"Gemeinsamer Schlüssel Bob  : {shared_key_bob.hex()}\")\n",
    "\n",
    "\n",
    "diffie_hellman_key_exchange()"
   ]
  },
  {
   "cell_type": "markdown",
   "metadata": {},
   "source": [
    "### 8."
   ]
  },
  {
   "cell_type": "markdown",
   "metadata": {},
   "source": [
    "a)\n",
    "\n",
    "Weierstrass-Kurven z.B.:\n",
    "- cryptography.hazmat.primitives.asymmetric.ec.SECP192R1\n",
    "- cryptography.hazmat.primitives.asymmetric.ec.SECP224R1\n",
    "- cryptography.hazmat.primitives.asymmetric.ec.SECP256R1\n",
    "- cryptography.hazmat.primitives.asymmetric.ec.SECP384R1\n",
    "- cryptography.hazmat.primitives.asymmetric.ec.SECP521R1\n",
    "\n",
    "Montgomery-Kurven z.B.:\n",
    "- cryptography.hazmat.primitives.asymmetric.x25519.X25519\n",
    "- cryptography.hazmat.primitives.asymmetric.x448.X448\n",
    "\n",
    "Edwards-Kurven z.B.:\n",
    "- cryptography.hazmat.primitives.asymmetric.ed25519.Ed25519  <--- im Bsp.\n",
    "- cryptography.hazmat.primitives.asymmetric.ed448.Ed448"
   ]
  },
  {
   "cell_type": "code",
   "execution_count": 36,
   "metadata": {},
   "outputs": [
    {
     "name": "stdout",
     "output_type": "stream",
     "text": [
      "message:   0x54657374\n",
      "signature: 0x5ad4429dfda5aa2eae538702afe9ed7d1e1edf007fceb2ec019858065cb741f16225c6e797c654fcea490df08573950da5c7edcc75770f7709511f49f275e202\n"
     ]
    },
    {
     "ename": "AttributeError",
     "evalue": "module 'cryptography.hazmat.primitives.asymmetric.utils' has no attribute 'InvalidSignature'",
     "output_type": "error",
     "traceback": [
      "\u001b[0;31m---------------------------------------------------------------------------\u001b[0m",
      "\u001b[0;31mInvalidSignature\u001b[0m                          Traceback (most recent call last)",
      "Cell \u001b[0;32mIn[36], line 17\u001b[0m, in \u001b[0;36msign_and_verify_message\u001b[0;34m()\u001b[0m\n\u001b[1;32m     15\u001b[0m \u001b[38;5;28;01mtry\u001b[39;00m:\n\u001b[1;32m     16\u001b[0m     \u001b[38;5;66;03m# Raises InvalidSignature if verification fails\u001b[39;00m\n\u001b[0;32m---> 17\u001b[0m     \u001b[43mpublic_key\u001b[49m\u001b[38;5;241;43m.\u001b[39;49m\u001b[43mverify\u001b[49m\u001b[43m(\u001b[49m\u001b[43msignature\u001b[49m\u001b[43m,\u001b[49m\u001b[43m \u001b[49m\u001b[38;5;124;43mb\u001b[39;49m\u001b[38;5;124;43m\"\u001b[39;49m\u001b[38;5;124;43mtest\u001b[39;49m\u001b[38;5;124;43m\"\u001b[39;49m\u001b[43m)\u001b[49m\n\u001b[1;32m     18\u001b[0m     \u001b[38;5;28mprint\u001b[39m(\u001b[38;5;124m\"\u001b[39m\u001b[38;5;124mDie Signatur ist gültig.\u001b[39m\u001b[38;5;124m\"\u001b[39m)\n",
      "\u001b[0;31mInvalidSignature\u001b[0m: ",
      "\nDuring handling of the above exception, another exception occurred:\n",
      "\u001b[0;31mAttributeError\u001b[0m                            Traceback (most recent call last)",
      "Cell \u001b[0;32mIn[36], line 23\u001b[0m\n\u001b[1;32m     19\u001b[0m     \u001b[38;5;28;01mexcept\u001b[39;00m utils\u001b[38;5;241m.\u001b[39mInvalidSignature:\n\u001b[1;32m     20\u001b[0m         \u001b[38;5;28mprint\u001b[39m(\u001b[38;5;124m\"\u001b[39m\u001b[38;5;124mDie Signatur ist ungültig.\u001b[39m\u001b[38;5;124m\"\u001b[39m)\n\u001b[0;32m---> 23\u001b[0m \u001b[43msign_and_verify_message\u001b[49m\u001b[43m(\u001b[49m\u001b[43m)\u001b[49m\n",
      "Cell \u001b[0;32mIn[36], line 19\u001b[0m, in \u001b[0;36msign_and_verify_message\u001b[0;34m()\u001b[0m\n\u001b[1;32m     17\u001b[0m     public_key\u001b[38;5;241m.\u001b[39mverify(signature, \u001b[38;5;124mb\u001b[39m\u001b[38;5;124m\"\u001b[39m\u001b[38;5;124mtest\u001b[39m\u001b[38;5;124m\"\u001b[39m)\n\u001b[1;32m     18\u001b[0m     \u001b[38;5;28mprint\u001b[39m(\u001b[38;5;124m\"\u001b[39m\u001b[38;5;124mDie Signatur ist gültig.\u001b[39m\u001b[38;5;124m\"\u001b[39m)\n\u001b[0;32m---> 19\u001b[0m \u001b[38;5;28;01mexcept\u001b[39;00m \u001b[43mutils\u001b[49m\u001b[38;5;241;43m.\u001b[39;49m\u001b[43mInvalidSignature\u001b[49m:\n\u001b[1;32m     20\u001b[0m     \u001b[38;5;28mprint\u001b[39m(\u001b[38;5;124m\"\u001b[39m\u001b[38;5;124mDie Signatur ist ungültig.\u001b[39m\u001b[38;5;124m\"\u001b[39m)\n",
      "\u001b[0;31mAttributeError\u001b[0m: module 'cryptography.hazmat.primitives.asymmetric.utils' has no attribute 'InvalidSignature'"
     ]
    }
   ],
   "source": [
    "from cryptography.hazmat.primitives.asymmetric import utils\n",
    "from cryptography.hazmat.primitives.asymmetric.ed25519 import Ed25519PrivateKey\n",
    "\n",
    "\n",
    "def sign_and_verify_message():\n",
    "    private_key = Ed25519PrivateKey.generate()\n",
    "    public_key = private_key.public_key()\n",
    "\n",
    "    message = b\"Test\"  # bytes\n",
    "    signature = private_key.sign(message)\n",
    "\n",
    "    print(f\"message:   0x{message.hex()}\")\n",
    "    print(f\"signature: 0x{signature.hex()}\")\n",
    "\n",
    "    try:\n",
    "        # Raises InvalidSignature if verification fails\n",
    "        public_key.verify(signature, message)\n",
    "        print(\"Die Signatur ist gültig.\")\n",
    "    except utils.InvalidSignature:\n",
    "        print(\"Die Signatur ist ungültig.\")\n",
    "\n",
    "\n",
    "sign_and_verify_message()"
   ]
  }
 ],
 "metadata": {
  "kernelspec": {
   "display_name": "Python 3",
   "language": "python",
   "name": "python3"
  },
  "language_info": {
   "codemirror_mode": {
    "name": "ipython",
    "version": 3
   },
   "file_extension": ".py",
   "mimetype": "text/x-python",
   "name": "python",
   "nbconvert_exporter": "python",
   "pygments_lexer": "ipython3",
   "version": "3.12.0"
  }
 },
 "nbformat": 4,
 "nbformat_minor": 2
}
