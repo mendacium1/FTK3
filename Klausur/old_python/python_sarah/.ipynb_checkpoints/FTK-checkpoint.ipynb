{
 "cells": [
  {
   "cell_type": "markdown",
   "id": "b4bc1df3",
   "metadata": {},
   "source": [
    "# FTK Klausur"
   ]
  },
  {
   "cell_type": "markdown",
   "id": "1cbc453e",
   "metadata": {},
   "source": [
    "*Made by Ioan - SIB 21*"
   ]
  },
  {
   "cell_type": "code",
   "execution_count": 2,
   "id": "8687dc12",
   "metadata": {},
   "outputs": [],
   "source": [
    "import si # Danke Jürgen\n",
    "import ftk_expanded # Danke ich\n",
    "import GruppenElementeBerechnen # Danke Fabi\n",
    "\n",
    "import importlib # needed for quick library reloads"
   ]
  },
  {
   "cell_type": "code",
   "execution_count": 3,
   "id": "cbe9c627",
   "metadata": {
    "scrolled": true
   },
   "outputs": [
    {
     "data": {
      "text/plain": [
       "<module 'ftk_expanded' from '/home/null/Cry/FTK/ftk_jupyter/ftk_expanded.py'>"
      ]
     },
     "execution_count": 3,
     "metadata": {},
     "output_type": "execute_result"
    }
   ],
   "source": [
    "importlib.reload(ftk_expanded) #reload after changing ftk_expanded.py"
   ]
  },
  {
   "cell_type": "markdown",
   "id": "0aba13df",
   "metadata": {},
   "source": [
    "## RSA"
   ]
  },
  {
   "cell_type": "code",
   "execution_count": 34,
   "id": "f47857c1",
   "metadata": {},
   "outputs": [
    {
     "data": {
      "text/plain": [
       "8589934620"
      ]
     },
     "execution_count": 34,
     "metadata": {},
     "output_type": "execute_result"
    }
   ],
   "source": [
    "si.euler_phi(8589934621)"
   ]
  },
  {
   "cell_type": "code",
   "execution_count": 33,
   "id": "e889efee",
   "metadata": {},
   "outputs": [
    {
     "name": "stdout",
     "output_type": "stream",
     "text": [
      "Warning: Point (11794, 3282) is not on the curve. Continuing ...\n"
     ]
    },
    {
     "data": {
      "text/plain": [
       "Point( EC( 1, 4, 0 ), None )"
      ]
     },
     "execution_count": 33,
     "metadata": {},
     "output_type": "execute_result"
    }
   ],
   "source": [
    "inv = si.inverse_mod(32492, 32771)\n",
    "\n",
    "k = 10183 * inv % 32771\n",
    "k\n",
    "\n",
    "curve = si.EC(1, 4)\n",
    "Q = si.Point(curve, (11794, 3282))\n",
    "G = si.Point(curve, (0,2))\n",
    "\n",
    "result = G.mult(1//181)\n",
    "result"
   ]
  },
  {
   "cell_type": "code",
   "execution_count": 10,
   "id": "d3a13682",
   "metadata": {},
   "outputs": [
    {
     "data": {
      "text/plain": [
       "10262"
      ]
     },
     "execution_count": 10,
     "metadata": {},
     "output_type": "execute_result"
    }
   ],
   "source": [
    "# 4. Klausur\n",
    "g_inv = si.inverse_mod(34567, 76543)\n",
    "\n",
    "# alpha = A * g^-1 mod n\n",
    "alpha = 2390*g_inv%76543\n",
    "\n",
    "# shared secret\n",
    "alpha * 37674 % 76543"
   ]
  },
  {
   "cell_type": "code",
   "execution_count": 19,
   "id": "92b30875",
   "metadata": {},
   "outputs": [
    {
     "data": {
      "text/plain": [
       "Point( EC( 1, 4, 32771 ), ( 20624, 19557 ) )"
      ]
     },
     "execution_count": 19,
     "metadata": {},
     "output_type": "execute_result"
    }
   ],
   "source": [
    "# 5. Klausur\n",
    "inv = si.inverse_mod(599, 32492)\n",
    "k = 13421 * inv % 32492\n",
    "\n",
    "curve = si.EC(1, 4, 32771)\n",
    "Q = si.Point(curve, (11794, 3282))\n",
    "k*Q"
   ]
  },
  {
   "cell_type": "markdown",
   "id": "eef37a66",
   "metadata": {},
   "source": [
    "#### GGT/Euklid"
   ]
  },
  {
   "cell_type": "code",
   "execution_count": 429,
   "id": "69126368",
   "metadata": {},
   "outputs": [
    {
     "name": "stdout",
     "output_type": "stream",
     "text": [
      "'                 15   12\n",
      "'            15    1    0\n",
      "'            12    0    1    1\n",
      "'             3    1   -1    4\n"
     ]
    },
    {
     "data": {
      "text/plain": [
       "(3, 1, -1)"
      ]
     },
     "execution_count": 429,
     "metadata": {},
     "output_type": "execute_result"
    }
   ],
   "source": [
    "# extended_gcd(a, b, verbosity)\n",
    "a = 15\n",
    "b = 12 \n",
    "\n",
    "si.extended_gcd(a, b, verbose=1)"
   ]
  },
  {
   "cell_type": "markdown",
   "id": "07398ffa",
   "metadata": {},
   "source": [
    "#### Euler-phi"
   ]
  },
  {
   "cell_type": "markdown",
   "id": "4f1ff153",
   "metadata": {},
   "source": [
    "Berechnung von $\\varphi(n)$, der Anzahl der Elemente. (Bei Primzahlen $\\varphi(n) = n - 1$.)"
   ]
  },
  {
   "cell_type": "code",
   "execution_count": 430,
   "id": "95b11d8f",
   "metadata": {},
   "outputs": [
    {
     "data": {
      "text/plain": [
       "20"
      ]
     },
     "execution_count": 430,
     "metadata": {},
     "output_type": "execute_result"
    }
   ],
   "source": [
    "n = 33\n",
    "\n",
    "si.euler_phi(n)"
   ]
  },
  {
   "cell_type": "markdown",
   "id": "95bdb0e6",
   "metadata": {},
   "source": [
    "Ausgabe der Elemente:"
   ]
  },
  {
   "cell_type": "code",
   "execution_count": null,
   "id": "0519ed4b",
   "metadata": {
    "scrolled": true
   },
   "outputs": [
    {
     "data": {
      "text/plain": [
       "{1, 2, 4, 5, 7, 8, 10, 13, 14, 16, 17, 19, 20, 23, 25, 26, 28, 29, 31, 32}"
      ]
     },
     "execution_count": 431,
     "metadata": {},
     "output_type": "execute_result"
    }
   ],
   "source": [
    "n = 33\n",
    "\n",
    "ftk_expanded.find_elements(n)\n",
    "#len(ftk_expanded.find_elements(n)) == si.euler_phi(n) "
   ]
  },
  {
   "cell_type": "markdown",
   "id": "02500f99",
   "metadata": {},
   "source": [
    "#### Primfaktoren"
   ]
  },
  {
   "cell_type": "code",
   "execution_count": null,
   "id": "15c45237",
   "metadata": {},
   "outputs": [],
   "source": [
    "n = 9788741\n",
    "\n",
    "si.prime_factors(n, unique=True) # unique -> Keine Duplikate ausgeben"
   ]
  },
  {
   "cell_type": "markdown",
   "id": "3c448d3c",
   "metadata": {},
   "source": [
    "#### Korollar 1.12"
   ]
  },
  {
   "cell_type": "markdown",
   "id": "7942d8b5",
   "metadata": {},
   "source": [
    "Bsp aus Übung: Berechne unter Verwendung von Korollar 1.12: $7900^{15548} \\pmod{71}$"
   ]
  },
  {
   "cell_type": "code",
   "execution_count": 433,
   "id": "d878beca",
   "metadata": {
    "scrolled": true
   },
   "outputs": [
    {
     "name": "stdout",
     "output_type": "stream",
     "text": [
      "Step 1:\n",
      "\tphi(71) = 70.\n",
      "Step 2:\n",
      "\tExponent (15548) modulo phi(71) = 8\n",
      "Step 3:\n",
      "\tBasis (7900) modulo 71 = 19\n",
      "Step 4:\n",
      "\tergebnis_3 ^ ergebnis_2 mod n => 19^8 mod 71 = 18\n"
     ]
    },
    {
     "data": {
      "text/plain": [
       "18"
      ]
     },
     "execution_count": 433,
     "metadata": {},
     "output_type": "execute_result"
    }
   ],
   "source": [
    "z = 7900\n",
    "a = 15548\n",
    "n = 71\n",
    "\n",
    "ftk_expanded.korollar112( z, a, n )"
   ]
  },
  {
   "cell_type": "markdown",
   "id": "af97abb0",
   "metadata": {},
   "source": [
    "#### Chinesischer Restsatz"
   ]
  },
  {
   "cell_type": "markdown",
   "id": "9ec570cf",
   "metadata": {},
   "source": [
    "Bsp aus Übung: Bestimme die Lösungsmenge des modularen Gleichungssystems:\n",
    "$$x = 45\\ (mod 79)$$\n",
    "$$x = 49\\ (mod 89)$$"
   ]
  },
  {
   "cell_type": "code",
   "execution_count": 4,
   "id": "10b40371",
   "metadata": {},
   "outputs": [
    {
     "data": {
      "text/plain": [
       "11111"
      ]
     },
     "execution_count": 4,
     "metadata": {},
     "output_type": "execute_result"
    }
   ],
   "source": [
    "# x = r (mod m) - x wird ermittelt\n",
    "m = [267, 287, 391] # Liste von Moduli\n",
    "r = [164, 205, 163] # Liste von Resten\n",
    "\n",
    "si.chinese_remainder(m, r)"
   ]
  },
  {
   "cell_type": "markdown",
   "id": "65abe776",
   "metadata": {},
   "source": [
    "Zur Berechnung von RSA - Bsp. Entschlüssle 1969 mit Private Key (p, q, d) = (47, 53, 2153)"
   ]
  },
  {
   "cell_type": "code",
   "execution_count": 435,
   "id": "d396993d",
   "metadata": {
    "scrolled": false
   },
   "outputs": [
    {
     "name": "stdout",
     "output_type": "stream",
     "text": [
      "Zuerst d mod p und mod q berechnen:\n",
      "\td_p = d mod phi(p) = 2153 % 46 = 37\n",
      "\td_q = d mod phi(q) = 2153 % 52 = 21\n",
      "\n",
      "Dann GGT von p und q berechnen:\n",
      "\tggt(p, q) = (1, -9, 8). x = -9 und y = 8. \n",
      "Da man für x einsetzen kann brauchen wir nur y.\n",
      "\n",
      "Next brauchen wir:\n",
      "\tc^d_p mod p und c^d_q mod q: m_p = c^d_p mod p = 1969 ^ 37 mod 47 = 27\n",
      "\tm_q = c^d_q mod q = 1969 ^ 21 mod 53 = 34\n",
      "\n",
      "Berechnung von:\n",
      "\th = (m_p - m_q) * y mod p = (27 - 34) * 8 mod 47 = 38\n",
      "\n",
      "Abschließend noch:\n",
      "\tm = m_q + q * h mod (p * q) = 34 + 53 * 38 mod (47 * 53) = 2048\n",
      "\n",
      "Decrypted message: 2048\n"
     ]
    },
    {
     "data": {
      "text/plain": [
       "2048"
      ]
     },
     "execution_count": 435,
     "metadata": {},
     "output_type": "execute_result"
    }
   ],
   "source": [
    "cipher = 1969\n",
    "p = 47\n",
    "q = 53\n",
    "d = 2153\n",
    "\n",
    "ftk_expanded.rsa_decrypt_chinese( cipher, p, q, d, verbose=True )"
   ]
  },
  {
   "cell_type": "markdown",
   "id": "fa675381",
   "metadata": {},
   "source": [
    "#### Alternative RSA Decrypts"
   ]
  },
  {
   "cell_type": "code",
   "execution_count": 436,
   "id": "7a02f4a2",
   "metadata": {},
   "outputs": [
    {
     "data": {
      "text/plain": [
       "1740"
      ]
     },
     "execution_count": 436,
     "metadata": {},
     "output_type": "execute_result"
    }
   ],
   "source": [
    "c = 1969\n",
    "d = 2153\n",
    "n = 2393\n",
    "\n",
    "# slow - no square and multiply (c**d % n)\n",
    "#ftk_expanded.rsa_decrypt_slow( c, d, n )\n",
    "\n",
    "# classic - square and multiply (pow(c,d,n))\n",
    "ftk_expanded.rsa_decrypt_classic( c, d, n )"
   ]
  },
  {
   "cell_type": "markdown",
   "id": "04df2e87",
   "metadata": {},
   "source": [
    "## Diskrete Logarithmen"
   ]
  },
  {
   "cell_type": "markdown",
   "id": "32901c66",
   "metadata": {},
   "source": [
    "#### Gruppen"
   ]
  },
  {
   "cell_type": "code",
   "execution_count": 437,
   "id": "ddad6b7f",
   "metadata": {},
   "outputs": [
    {
     "name": "stdout",
     "output_type": "stream",
     "text": [
      "Gruppe(15,+,-,0) self.order=8\n",
      " g^1  g^2  g^3  g^4  g^5  g^6  g^7  g^8  Ordnung  ĝ\n",
      "   1    2    3    4    5    6    7    8      inf 14\n",
      "   2    4    6    8   10   12   14    1      inf 13\n",
      "   4    8   12    1    5    9   13    2      inf 11\n",
      "   7   14    6   13    5   12    4   11      inf  8\n",
      "   8    1    9    2   10    3   11    4      inf  7\n",
      "  11    7    3   14   10    6    2   13      inf  4\n",
      "  13   11    9    7    5    3    1   14      inf  2\n",
      "  14   13   12   11   10    9    8    7      inf  1\n"
     ]
    }
   ],
   "source": [
    "gruppe = GruppenElementeBerechnen.Gruppe(15,'+','-',0,star=True)\n",
    "gruppe.set_Elements()\n",
    "gruppe.printOut()"
   ]
  },
  {
   "cell_type": "markdown",
   "id": "8005ef76",
   "metadata": {},
   "source": [
    "#### Ordnungen"
   ]
  },
  {
   "cell_type": "markdown",
   "id": "8860279b",
   "metadata": {},
   "source": [
    "Bsp. Bestimme die Ordnung von $3116701003\\ \\text{in}\\ \\mathbb{Z}^{*}_{3696837919}$"
   ]
  },
  {
   "cell_type": "code",
   "execution_count": 441,
   "id": "e57a8324",
   "metadata": {
    "scrolled": false
   },
   "outputs": [
    {
     "name": "stdout",
     "output_type": "stream",
     "text": [
      "Factors of omega:\n",
      "\t p(3696837918) = [2, 3, 17, 167, 217027]\n",
      "Check one: if g^omega mod group != 1 -> ord(g) != omega\n",
      "\t3116701003^3696837918 mod 3696837919 = 1\n",
      "\n",
      "\n",
      "Check two: if g^(omega / factors) == 1 -> ord(g) != omega\n",
      "g^(omega/2) mod group\n",
      "\t3116701003^(3696837918/2) mod 3696837919 = 3696837918\n",
      "g^(omega/3) mod group\n",
      "\t3116701003^(3696837918/3) mod 3696837919 = 141597931\n",
      "g^(omega/17) mod group\n",
      "\t3116701003^(3696837918/17) mod 3696837919 = 1724432622\n",
      "g^(omega/167) mod group\n",
      "\t3116701003^(3696837918/167) mod 3696837919 = 42223594\n",
      "g^(omega/217027) mod group\n",
      "\t3116701003^(3696837918/217027) mod 3696837919 = 1320096259\n",
      "\n",
      "Both checks passed -> ord(g) = omega\n",
      "\tord(3116701003) = 3696837918\n"
     ]
    }
   ],
   "source": [
    "g = 3116701003 \n",
    "Group = 3696837919\n",
    "\n",
    "ftk_expanded.check_order( g, Group )"
   ]
  },
  {
   "cell_type": "markdown",
   "id": "95ca1de3",
   "metadata": {},
   "source": [
    "#### Baby Step Giant Step"
   ]
  },
  {
   "cell_type": "markdown",
   "id": "c5236fa1",
   "metadata": {},
   "source": [
    "Bsp: Berechne den diskreten Logarithmus von 37 zur Basis 6 in $\\mathbb{Z}^{*}_{131}$"
   ]
  },
  {
   "cell_type": "code",
   "execution_count": 439,
   "id": "91a0e86e",
   "metadata": {
    "scrolled": true
   },
   "outputs": [
    {
     "data": {
      "text/plain": [
       "43"
      ]
     },
     "execution_count": 439,
     "metadata": {},
     "output_type": "execute_result"
    }
   ],
   "source": [
    "a = 6\n",
    "g = 37\n",
    "group = 131\n",
    "\n",
    "ftk_expanded.baby_giant_step( g, a, group )"
   ]
  },
  {
   "cell_type": "markdown",
   "id": "c687314e",
   "metadata": {},
   "source": [
    "#### Pohlig Hellman"
   ]
  },
  {
   "cell_type": "markdown",
   "id": "bce5d66f",
   "metadata": {},
   "source": [
    "Bsp: Berechne den diskreten Logarithmus von 37 zur Basis 6 in $\\mathbb{Z}^{*}_{131}$"
   ]
  },
  {
   "cell_type": "code",
   "execution_count": 440,
   "id": "7baba40e",
   "metadata": {
    "scrolled": false
   },
   "outputs": [
    {
     "name": "stdout",
     "output_type": "stream",
     "text": [
      "10 13\n",
      "alpha = 43\n"
     ]
    }
   ],
   "source": [
    "a = 6\n",
    "g = 37\n",
    "group = 131\n",
    "\n",
    "ftk_expanded.pohlig_hellman( a, g, group )"
   ]
  },
  {
   "cell_type": "markdown",
   "id": "0d04aa33",
   "metadata": {},
   "source": [
    "#### DSA"
   ]
  },
  {
   "cell_type": "markdown",
   "id": "73a49a0c",
   "metadata": {},
   "source": [
    "Erstellen der keys, Erzeugung der Signatur und dessen Prüfung"
   ]
  },
  {
   "cell_type": "code",
   "execution_count": 559,
   "id": "aaa5004d",
   "metadata": {
    "scrolled": false
   },
   "outputs": [
    {
     "name": "stdout",
     "output_type": "stream",
     "text": [
      "Private key: 57\n",
      "Signature: (67, 3)\n",
      "Step 1:\n",
      "\tCheck 1 <= r < omega and 1 <= s < omega\n",
      "Passed Step 1\n",
      "\n",
      "Step 2:\n",
      "\tCalc x = s^(-1) * h(msg) mod omega und y = s^(-1) * r mod omega\n",
      "\tx = 44\n",
      "and\n",
      "\ty = 109\n",
      "\n",
      "Step 3:\n",
      "\tCheck r = (g^x * A^y mod group) mod omega\n",
      "Passed Step 3\n"
     ]
    },
    {
     "data": {
      "text/plain": [
       "True"
      ]
     },
     "execution_count": 559,
     "metadata": {},
     "output_type": "execute_result"
    }
   ],
   "source": [
    "# Zufällig generierte Angabe (hier alpha) funktioniert oft nicht - entweder öfter probieren oder bestimme Angabe auswählen\n",
    "m = \"Hello world!\"\n",
    "g = 6\n",
    "#p = Group Param in ftk_expanded\n",
    "p = 131\n",
    "omega = 130\n",
    "# choose random alpha in Z_omega -> private key\n",
    "alpha = ftk_expanded.create_dsa_private_key( omega ) #41, 59, 71, 25, 35, 21, 105 funktionieren zB für die Angabe\n",
    "print(f\"Private key: {alpha}\")\n",
    "\n",
    "\n",
    "# get public key of alpha -> ( private, public )\n",
    "keypair = ftk_expanded.get_dsa_keys( alpha, g, p ) \n",
    "#print(keypair)\n",
    "\n",
    "    # create signature -> ( r, s )\n",
    "m_hash = ftk_expanded.get_msg_hash(m)\n",
    "sig = ftk_expanded.create_dsa_sig( alpha, g, m_hash, p )\n",
    "print(f\"Signature: {sig}\")\n",
    "\n",
    "    # check signature -> True/False\n",
    "# If fails try again - problem with random key sometimes\n",
    "ftk_expanded.check_dsa_sig( signature=sig, element=g, group=p, msg_hash=m_hash, public_key=keypair[1] )"
   ]
  },
  {
   "cell_type": "markdown",
   "id": "6e1ae5e1",
   "metadata": {},
   "source": [
    "#### DSA Attacken"
   ]
  },
  {
   "cell_type": "markdown",
   "id": "71821b91",
   "metadata": {},
   "source": [
    "##### Fake Signature"
   ]
  },
  {
   "cell_type": "code",
   "execution_count": 536,
   "id": "c2bf6245",
   "metadata": {
    "scrolled": false
   },
   "outputs": [
    {
     "name": "stdout",
     "output_type": "stream",
     "text": [
      "Fake Signature:\n",
      "\tr = 3150\n",
      "\ts = 15\n"
     ]
    },
    {
     "ename": "TypeError",
     "evalue": "unsupported operand type(s) for *: 'NoneType' and 'int'",
     "output_type": "error",
     "traceback": [
      "\u001b[1;31m----------------------------------------------------------\u001b[0m",
      "\u001b[1;31mTypeError\u001b[0m                Traceback (most recent call last)",
      "Cell \u001b[1;32mIn[536], line 17\u001b[0m\n\u001b[0;32m     13\u001b[0m sig \u001b[38;5;241m=\u001b[39m ftk_expanded\u001b[38;5;241m.\u001b[39mcreate_dsa_sig( alpha, g, real_hash, group )\n\u001b[0;32m     16\u001b[0m \u001b[38;5;66;03m# Create fake signature\u001b[39;00m\n\u001b[1;32m---> 17\u001b[0m result \u001b[38;5;241m=\u001b[39m \u001b[43mftk_expanded\u001b[49m\u001b[38;5;241;43m.\u001b[39;49m\u001b[43mfake_dsa_sig\u001b[49m\u001b[43m(\u001b[49m\u001b[43m \u001b[49m\u001b[43mreal_hash\u001b[49m\u001b[43m,\u001b[49m\u001b[43m \u001b[49m\u001b[43mfake_hash\u001b[49m\u001b[43m,\u001b[49m\u001b[43m \u001b[49m\u001b[43momega\u001b[49m\u001b[43m,\u001b[49m\u001b[43m \u001b[49m\u001b[43msig\u001b[49m\u001b[43m,\u001b[49m\u001b[43m \u001b[49m\u001b[43mgroup\u001b[49m\u001b[43m \u001b[49m\u001b[43m)\u001b[49m\n\u001b[0;32m     18\u001b[0m \u001b[38;5;66;03m# result = [ (fake_r, fake_s), (x, y), (fake_x, fake_y) ]\u001b[39;00m\n\u001b[0;32m     19\u001b[0m fake_sig \u001b[38;5;241m=\u001b[39m result[\u001b[38;5;241m0\u001b[39m]\n",
      "File \u001b[1;32m~\\Dev\\Study\\ftk_expanded.py:406\u001b[0m, in \u001b[0;36mfake_dsa_sig\u001b[1;34m(real_hash, fake_hash, omega, signature, group)\u001b[0m\n\u001b[0;32m    404\u001b[0m \u001b[38;5;66;03m# Calc x and y of both sigs\u001b[39;00m\n\u001b[0;32m    405\u001b[0m x \u001b[38;5;241m=\u001b[39m si\u001b[38;5;241m.\u001b[39minverse_mod(s, omega) \u001b[38;5;241m*\u001b[39m real_hash \u001b[38;5;241m%\u001b[39m omega\n\u001b[1;32m--> 406\u001b[0m fake_x \u001b[38;5;241m=\u001b[39m \u001b[43msi\u001b[49m\u001b[38;5;241;43m.\u001b[39;49m\u001b[43minverse_mod\u001b[49m\u001b[43m(\u001b[49m\u001b[43mfake_s\u001b[49m\u001b[43m,\u001b[49m\u001b[43m \u001b[49m\u001b[43momega\u001b[49m\u001b[43m)\u001b[49m\u001b[43m \u001b[49m\u001b[38;5;241;43m*\u001b[39;49m\u001b[43m \u001b[49m\u001b[43mfake_hash\u001b[49m \u001b[38;5;241m%\u001b[39m omega\n\u001b[0;32m    407\u001b[0m \u001b[38;5;28mprint\u001b[39m(\u001b[38;5;124mf\u001b[39m\u001b[38;5;124m\"\u001b[39m\u001b[38;5;124mx = \u001b[39m\u001b[38;5;132;01m{\u001b[39;00mx\u001b[38;5;132;01m}\u001b[39;00m\u001b[38;5;130;01m\\n\u001b[39;00m\u001b[38;5;124mfake x = \u001b[39m\u001b[38;5;132;01m{\u001b[39;00mfake_x\u001b[38;5;132;01m}\u001b[39;00m\u001b[38;5;124m\"\u001b[39m)\n\u001b[0;32m    408\u001b[0m y \u001b[38;5;241m=\u001b[39m si\u001b[38;5;241m.\u001b[39minverse_mod(s, omega) \u001b[38;5;241m*\u001b[39m r \u001b[38;5;241m%\u001b[39m omega\n",
      "\u001b[1;31mTypeError\u001b[0m: unsupported operand type(s) for *: 'NoneType' and 'int'"
     ]
    }
   ],
   "source": [
    "# Zufällig generierte, beispielhafte Angabe funktioniert oft nicht -> probieren oder selber auswählen\n",
    "msg = \"Hello World!\" \n",
    "fake_msg = \"Goodbye World!\"\n",
    "omega = 130\n",
    "g = 6\n",
    "group = 131\n",
    "alpha = ftk_expanded.create_dsa_private_key( omega )\n",
    "A = ftk_expanded.get_dsa_keys( private_key=alpha, element=g, group=group )\n",
    "\n",
    "real_hash = ftk_expanded.get_msg_hash(msg)\n",
    "fake_hash = ftk_expanded.get_msg_hash(fake_msg)\n",
    "\n",
    "sig = ftk_expanded.create_dsa_sig( alpha, g, real_hash, group )\n",
    "\n",
    "\n",
    "# Create fake signature\n",
    "result = ftk_expanded.fake_dsa_sig( real_hash, fake_hash, omega, sig, group )\n",
    "# result = [ (fake_r, fake_s), (x, y), (fake_x, fake_y) ]\n",
    "fake_sig = result[0]\n",
    "xy = result[1]\n",
    "fake_xy = result[2]\n",
    "\n",
    "# Broken verification of signature (Skips first step)\n",
    "ftk_expanded.broken_dsa_verification( g, xy, fake_xy, A, omega, group )"
   ]
  },
  {
   "cell_type": "markdown",
   "id": "75d5f0d4",
   "metadata": {},
   "source": [
    "##### Key zurückrechnen"
   ]
  },
  {
   "cell_type": "markdown",
   "id": "cfb7a1e8",
   "metadata": {},
   "source": [
    "Bei Wiederverwendung von k kann man den Private key zurückrechnen.\n",
    "Man braucht dazu zwei Signaturen, zwei verschiedene Nachrichten/Hashes und die Standardparams."
   ]
  },
  {
   "cell_type": "code",
   "execution_count": 450,
   "id": "8f37226d",
   "metadata": {},
   "outputs": [
    {
     "name": "stdout",
     "output_type": "stream",
     "text": [
      "Alpha: 78\n",
      "A matches the calculated value for alpha\n"
     ]
    }
   ],
   "source": [
    "group = 131\n",
    "g = 6\n",
    "omega = 130\n",
    "k = 11\n",
    "msg1 = \"Hello World\"\n",
    "msg2 = \"Goodbye World!\"\n",
    "alpha = ftk_expanded.create_dsa_private_key( omega ) # choose random key\n",
    "A = ftk_expanded.get_dsa_keys( alpha, g, group )[1] # calc public key\n",
    "\n",
    "h1 = ftk_expanded.get_msg_hash( msg1 )\n",
    "h2 = ftk_expanded.get_msg_hash( msg2 )\n",
    "# Broken DSA sig = reused k\n",
    "sig1 = ftk_expanded.broken_dsa_sig( alpha, g, msg1, group, k )\n",
    "sig2 = ftk_expanded.broken_dsa_sig( alpha, g, msg2, group, k )\n",
    "\n",
    "# Calculate the private key from previous prep work^\n",
    "calc_alpha = ftk_expanded.calc_dsa_privatekey( sig1, sig2, h1, h2, omega )\n",
    "\n",
    "# checks the keypair\n",
    "ftk_expanded.check_dsa_privatekey( g, group, calc_alpha, A )"
   ]
  },
  {
   "cell_type": "markdown",
   "id": "8322a31a",
   "metadata": {},
   "source": [
    "## Elliptische Kurven"
   ]
  },
  {
   "cell_type": "markdown",
   "id": "dbe1124b",
   "metadata": {},
   "source": [
    "#### Punkte auf einer Kurve"
   ]
  },
  {
   "cell_type": "code",
   "execution_count": 452,
   "id": "2f7d1928",
   "metadata": {},
   "outputs": [
    {
     "name": "stdout",
     "output_type": "stream",
     "text": [
      "Warning: Point (-1, 7) is not on the curve. Continuing ...\n",
      "True\n",
      "False\n",
      "Warning: Point (-1, 7) is not on the curve. Continuing ...\n"
     ]
    }
   ],
   "source": [
    "# y^2 = x^3 + ax + b\n",
    "\n",
    "Curve = si.EC(-4, 4) # (a, b) y^2 = x^3 -4x + 4\n",
    "P = si.Point(Curve, (-2, 2)) # (x, y)\n",
    "Q = si.Point(Curve, (-1, 7))\n",
    "\n",
    "print(ftk_expanded.is_point_on_curve( Curve, P ))\n",
    "print(ftk_expanded.is_point_on_curve( Curve, Q ))\n",
    "\n",
    "# alternativ über si modul\n",
    "curve = si.EC(-4, 4) # p=0 default\n",
    "p = si.Point(curve, (-2, 2))\n",
    "q = si.Point(curve, (-1, 7)) # warning if not on curve"
   ]
  },
  {
   "cell_type": "markdown",
   "id": "d901f0fd",
   "metadata": {},
   "source": [
    "\n",
    "#### Punkte addieren"
   ]
  },
  {
   "cell_type": "code",
   "execution_count": 454,
   "id": "0339e259",
   "metadata": {},
   "outputs": [
    {
     "name": "stdout",
     "output_type": "stream",
     "text": [
      "New point: ( 0.0, -2.0 )\n"
     ]
    },
    {
     "data": {
      "text/plain": [
       "True"
      ]
     },
     "execution_count": 454,
     "metadata": {},
     "output_type": "execute_result"
    }
   ],
   "source": [
    "curve = si.EC(2, 4)\n",
    "p = si.Point(curve, (-1, 1))\n",
    "q = si.Point(curve, (2, 4))\n",
    "\n",
    "pq = p.add(q)\n",
    "\n",
    "print(f\"New point: {pq}\")\n",
    "ftk_expanded.is_point_on_curve( curve, pq )"
   ]
  },
  {
   "cell_type": "code",
   "execution_count": 455,
   "id": "786c5b00",
   "metadata": {},
   "outputs": [],
   "source": [
    "# mehrere Punkte addieren - lieber einzeln manuell über si.py\n",
    "#curve = si.EC(-8, 8)\n",
    "#P = si.Point(curve, (1, 1))\n",
    "#Q = si.Point(curve, (-2, -4))\n",
    "#R = si.Point(curve, (34/9, -(152/27)))\n",
    "\n",
    "#print(ftk_expanded.add_multiple_points( P, Q, R )) # fix float problem"
   ]
  },
  {
   "cell_type": "markdown",
   "id": "c58066fb",
   "metadata": {},
   "source": [
    "\n",
    "#### Koordinate berechen"
   ]
  },
  {
   "cell_type": "code",
   "execution_count": 456,
   "id": "26c99e25",
   "metadata": {},
   "outputs": [
    {
     "data": {
      "text/plain": [
       "(22.0, -22.0)"
      ]
     },
     "execution_count": 456,
     "metadata": {},
     "output_type": "execute_result"
    }
   ],
   "source": [
    "curve = si.EC(-4, 4)\n",
    "x = 8\n",
    "\n",
    "# berechnet unbekanntes y\n",
    "ftk_expanded.calc_unknown_coord( curve, x ) # plus/minus"
   ]
  },
  {
   "cell_type": "markdown",
   "id": "7a83de79",
   "metadata": {},
   "source": [
    "#### Endliche Ordnung bestimmen"
   ]
  },
  {
   "cell_type": "code",
   "execution_count": 457,
   "id": "70951cc4",
   "metadata": {
    "scrolled": true
   },
   "outputs": [
    {
     "name": "stdout",
     "output_type": "stream",
     "text": [
      "Finite order of P is: 4P = (1.0, -2.0)\n"
     ]
    },
    {
     "data": {
      "text/plain": [
       "Point( EC( 1, 2, 0 ), ( 1.0, -2.0 ) )"
      ]
     },
     "execution_count": 457,
     "metadata": {},
     "output_type": "execute_result"
    }
   ],
   "source": [
    "curve = si.EC(1, 2)\n",
    "P = si.Point(curve, (1, 2))\n",
    "\n",
    "# Punkt finden mit (p.x, -p.y)\n",
    "ftk_expanded.find_finite_order( P )"
   ]
  },
  {
   "cell_type": "markdown",
   "id": "6ebfbcd6",
   "metadata": {},
   "source": [
    "#### Alle Punkte bestimmen"
   ]
  },
  {
   "cell_type": "code",
   "execution_count": 458,
   "id": "ebf1c5f8",
   "metadata": {},
   "outputs": [
    {
     "data": {
      "text/plain": [
       "[Point( EC( 3, 6, 11 ), ( 2, 3 ) ),\n",
       " Point( EC( 3, 6, 11 ), ( 2, 8 ) ),\n",
       " Point( EC( 3, 6, 11 ), ( 3, 3 ) ),\n",
       " Point( EC( 3, 6, 11 ), ( 3, 8 ) ),\n",
       " Point( EC( 3, 6, 11 ), ( 4, 4 ) ),\n",
       " Point( EC( 3, 6, 11 ), ( 4, 7 ) ),\n",
       " Point( EC( 3, 6, 11 ), ( 5, 5 ) ),\n",
       " Point( EC( 3, 6, 11 ), ( 5, 6 ) ),\n",
       " Point( EC( 3, 6, 11 ), ( 6, 3 ) ),\n",
       " Point( EC( 3, 6, 11 ), ( 6, 8 ) ),\n",
       " Point( EC( 3, 6, 11 ), ( 8, 5 ) ),\n",
       " Point( EC( 3, 6, 11 ), ( 8, 6 ) ),\n",
       " Point( EC( 3, 6, 11 ), ( 9, 5 ) ),\n",
       " Point( EC( 3, 6, 11 ), ( 9, 6 ) ),\n",
       " Point( EC( 3, 6, 11 ), None )]"
      ]
     },
     "execution_count": 458,
     "metadata": {},
     "output_type": "execute_result"
    }
   ],
   "source": [
    "curve = si.EC(3, 6, 11) # p = 11 -> über Z_11\n",
    "\n",
    "curve.points()"
   ]
  },
  {
   "cell_type": "markdown",
   "id": "39290938",
   "metadata": {},
   "source": [
    "#### Ordnung der Kurve bestimmen"
   ]
  },
  {
   "cell_type": "code",
   "execution_count": 459,
   "id": "8dff4f39",
   "metadata": {},
   "outputs": [
    {
     "data": {
      "text/plain": [
       "15"
      ]
     },
     "execution_count": 459,
     "metadata": {},
     "output_type": "execute_result"
    }
   ],
   "source": [
    "curve = si.EC(3, 6, 11)\n",
    "\n",
    "# beides gleich\n",
    "len(curve.points())\n",
    "curve.order()"
   ]
  },
  {
   "cell_type": "markdown",
   "id": "484643c5",
   "metadata": {},
   "source": [
    "#### Ordnung eines Punktes bestimmen"
   ]
  },
  {
   "cell_type": "code",
   "execution_count": 460,
   "id": "cfe5f725",
   "metadata": {},
   "outputs": [
    {
     "data": {
      "text/plain": [
       "3"
      ]
     },
     "execution_count": 460,
     "metadata": {},
     "output_type": "execute_result"
    }
   ],
   "source": [
    "curve = si.EC(3, 6, 11)\n",
    "P = si.Point(curve, (9, 5))\n",
    "\n",
    "P.order()"
   ]
  },
  {
   "cell_type": "markdown",
   "id": "b3f8c58e",
   "metadata": {},
   "source": [
    "#### ECDH Key Exchange"
   ]
  },
  {
   "cell_type": "code",
   "execution_count": 461,
   "id": "6a91b474",
   "metadata": {},
   "outputs": [
    {
     "name": "stdout",
     "output_type": "stream",
     "text": [
      "( 1, 21 )\n",
      "( 1, 21 )\n"
     ]
    }
   ],
   "source": [
    "# bob key: 18; alice key: 8; curve: y^2 = x^3 + 13x + 13 in Z_23; Punkt G: (1,2) - omega: 29\n",
    "curve = si.EC( 13, 13, 23 )\n",
    "G = si.Point(curve, (1,2))\n",
    "alpha = 8\n",
    "beta = 18\n",
    "\n",
    "\n",
    "# public keys\n",
    "A = G.mult(alpha)\n",
    "B = G.mult(beta)\n",
    "\n",
    "# shared key\n",
    "K = B.mult(alpha)\n",
    "print(K)\n",
    "K = A.mult(beta)\n",
    "print(K)"
   ]
  },
  {
   "cell_type": "markdown",
   "id": "fc2830d0",
   "metadata": {},
   "source": [
    "#### EC Signatur"
   ]
  },
  {
   "cell_type": "code",
   "execution_count": 462,
   "id": "348073f7",
   "metadata": {},
   "outputs": [
    {
     "data": {
      "text/plain": [
       "(181, 77)"
      ]
     },
     "execution_count": 462,
     "metadata": {},
     "output_type": "execute_result"
    }
   ],
   "source": [
    "curve = si.EC( 5, 200, 601 )\n",
    "G = si.Point(curve, (3,38))\n",
    "alpha = 281\n",
    "omega = 577\n",
    "h_m = 333\n",
    "k = 500 # beliebig wählen\n",
    "\n",
    "ftk_expanded.create_ec_signature( G, k, omega, alpha, h_m )"
   ]
  },
  {
   "cell_type": "code",
   "execution_count": 463,
   "id": "7841a405",
   "metadata": {},
   "outputs": [
    {
     "name": "stdout",
     "output_type": "stream",
     "text": [
      "Passed Step 1\n",
      "Passed entire verification\n"
     ]
    }
   ],
   "source": [
    "# signatur verifizieren\n",
    "curve = si.EC( 5, 200, 601 )\n",
    "G = si.Point(curve, (3,38))\n",
    "alpha = 281\n",
    "omega = 577\n",
    "h_m = 333\n",
    "sig = (181, 77)\n",
    "A = ftk_expanded.get_ec_pubkey( alpha, G )\n",
    "\n",
    "ftk_expanded.check_ec_signature( sig, omega, h_m, G, A )"
   ]
  },
  {
   "cell_type": "markdown",
   "id": "b01cd97d",
   "metadata": {},
   "source": [
    "## Hashfunktionen"
   ]
  },
  {
   "cell_type": "markdown",
   "id": "eff63b8d",
   "metadata": {},
   "source": [
    "Bro kA was man hier hinzufügen könnte"
   ]
  },
  {
   "cell_type": "markdown",
   "id": "52161959",
   "metadata": {},
   "source": [
    "## Kryptographie auf Polynombasis"
   ]
  },
  {
   "cell_type": "markdown",
   "id": "2eab9b8a",
   "metadata": {},
   "source": [
    "#### Galois Feld"
   ]
  },
  {
   "cell_type": "code",
   "execution_count": 464,
   "id": "2020fde5",
   "metadata": {
    "scrolled": false
   },
   "outputs": [
    {
     "name": "stdout",
     "output_type": "stream",
     "text": [
      "Z_3[x]/<2 + x + x**2>\n",
      "(0)\n",
      "(1)\n",
      "(2)\n",
      "(x)\n",
      "(1 + x)\n",
      "(2 + x)\n",
      "(2*x)\n",
      "(1 + 2*x)\n",
      "(2 + 2*x)\n",
      "      (x)            (0)            (1)            (2)            (x)          (1 + x)        (2 + x)         (2*x)        (1 + 2*x)      (2 + 2*x)   \n",
      "      (0)            (0)            (0)            (0)            (0)            (0)            (0)            (0)            (0)            (0)            (1)            (0)            (1)            (2)            (x)          (1 + x)        (2 + x)         (2*x)        (1 + 2*x)      (2 + 2*x)         (2)            (0)            (2)            (1)           (2*x)        (2 + 2*x)      (1 + 2*x)         (x)          (2 + x)        (1 + x)          (x)            (0)            (x)           (2*x)        (1 + 2*x)         (1)          (1 + x)        (2 + x)       (2 + 2*x)         (2)          (1 + x)          (0)          (1 + x)       (2 + 2*x)         (1)          (2 + x)         (2*x)           (2)            (x)         (1 + 2*x)       (2 + x)          (0)          (2 + x)       (1 + 2*x)       (1 + x)         (2*x)           (2)         (2 + 2*x)         (1)            (x)           (2*x)           (0)           (2*x)           (x)          (2 + x)          (2)         (2 + 2*x)      (1 + 2*x)       (1 + x)          (1)         (1 + 2*x)         (0)         (1 + 2*x)       (2 + x)       (2 + 2*x)         (x)            (1)          (1 + x)          (2)           (2*x)        (2 + 2*x)         (0)         (2 + 2*x)       (1 + x)          (2)         (1 + 2*x)         (x)            (1)           (2*x)         (2 + x)    \n"
     ]
    }
   ],
   "source": [
    "# GF(3^2)\n",
    "prime = 3\n",
    "poly = [1,2]  # x^2 + x + 2 (+ x ist impliziert laut finitefield)\n",
    "\n",
    "ftk_expanded.galois_field( prime, poly ) # führ das lieber im terminal aus... übersichtlicher bei großen Tabellen"
   ]
  },
  {
   "cell_type": "markdown",
   "id": "0a57f5d6",
   "metadata": {},
   "source": [
    "#### Polynome"
   ]
  },
  {
   "cell_type": "code",
   "execution_count": 465,
   "id": "3b51db69",
   "metadata": {
    "scrolled": true
   },
   "outputs": [
    {
     "name": "stdout",
     "output_type": "stream",
     "text": [
      "int_mod\n",
      "17\n",
      "(1x^5 + 3x^3 - 2x^2 - 5) mod 17\n"
     ]
    }
   ],
   "source": [
    "# 1x^5 + 3x^3 - 2x^2 - 5 mod 17\n",
    "poly = ftk_expanded.Polynomial( [1, 0, 3, -2, 0, -5], 17 ) # ( [poly], mod )\n",
    "\n",
    "print(poly.mod_mode) # basierend ob mod None, mod poly oder mod int\n",
    "print(poly.mod) # mod\n",
    "print(poly) # string representation"
   ]
  },
  {
   "cell_type": "markdown",
   "id": "fb9b980c",
   "metadata": {},
   "source": [
    "#### Polynome addieren"
   ]
  },
  {
   "cell_type": "code",
   "execution_count": 466,
   "id": "4415a76d",
   "metadata": {
    "scrolled": false
   },
   "outputs": [
    {
     "name": "stdout",
     "output_type": "stream",
     "text": [
      "(2x^6 + 2x^5 + 6x^3 - 4x^2 - 10)\n",
      "(2x^6 + 2x^5 + 6x^3 - 4x^2 - 10)\n"
     ]
    }
   ],
   "source": [
    "poly1 = ftk_expanded.Polynomial( [2, 1, 0, 3, -2, 0, -5], None )\n",
    "poly2 = ftk_expanded.Polynomial( [1, 0, 3, -2, 0, -5], None )\n",
    "\n",
    "print(poly1.add( poly2 ))\n",
    "print(poly1 + poly2)"
   ]
  },
  {
   "cell_type": "markdown",
   "id": "64af836b",
   "metadata": {},
   "source": [
    "#### Polynome subtrahieren"
   ]
  },
  {
   "cell_type": "code",
   "execution_count": 467,
   "id": "1854766a",
   "metadata": {},
   "outputs": [
    {
     "name": "stdout",
     "output_type": "stream",
     "text": [
      "(-2x^6 - 2x^3 + 1x^2 )\n",
      "(-2x^6 - 2x^3 + 1x^2 )\n"
     ]
    }
   ],
   "source": [
    "poly1 = ftk_expanded.Polynomial( [2, 1, 0, 5, -3, 0, -5], None )\n",
    "poly2 = ftk_expanded.Polynomial( [1, 0, 3, -2, 0, -5], None )\n",
    "\n",
    "print(poly2.sub( poly1 ))\n",
    "print(poly2 - poly1)"
   ]
  },
  {
   "cell_type": "markdown",
   "id": "5763eb12",
   "metadata": {},
   "source": [
    "#### Polynome multiplizieren"
   ]
  },
  {
   "cell_type": "code",
   "execution_count": 468,
   "id": "2329f474",
   "metadata": {},
   "outputs": [
    {
     "name": "stdout",
     "output_type": "stream",
     "text": [
      "(2x^11 + 1x^10 + 6x^9 + 2x^8 - 4x^7 - 1x^6 - 22x^5 + 4x^4 - 30x^3 + 20x^2 + 25)\n"
     ]
    }
   ],
   "source": [
    "poly1 = ftk_expanded.Polynomial( [2, 1, 0, 3, -2, 0, -5], None )\n",
    "poly2 = ftk_expanded.Polynomial( [1, 0, 3, -2, 0, -5], None )\n",
    "\n",
    "# Achtung: 2x dieselbe Multiplikation wiederholen verdreht aus irgendeinem Grund das zweite Ergebnis\n",
    "#print(poly1 * poly2) # <-- Entkommentieren und an der Ausgabe sieht man das Problem\n",
    "\n",
    "print(poly1.mul( poly2 )) # alternativ poly1 * poly2"
   ]
  },
  {
   "cell_type": "markdown",
   "id": "69641069",
   "metadata": {},
   "source": [
    "#### Polynome dividieren"
   ]
  },
  {
   "cell_type": "code",
   "execution_count": 469,
   "id": "dffa7336",
   "metadata": {},
   "outputs": [
    {
     "name": "stdout",
     "output_type": "stream",
     "text": [
      "(2.0x^1 - 1.0)\n",
      "(10.0x^1 - 2.0)\n"
     ]
    }
   ],
   "source": [
    "poly1 = ftk_expanded.Polynomial( [2, -1, 0, 3], None )\n",
    "poly2 = ftk_expanded.Polynomial( [1, 0, -5], None )\n",
    "\n",
    "quotient, remainder = poly1.div(poly2)\n",
    "# Achtung kein Operator override hier\n",
    "print(quotient)\n",
    "print(remainder)"
   ]
  },
  {
   "cell_type": "markdown",
   "id": "04cac862",
   "metadata": {},
   "source": [
    "#### Modulo von Polynom"
   ]
  },
  {
   "cell_type": "code",
   "execution_count": 470,
   "id": "e9e6a432",
   "metadata": {},
   "outputs": [
    {
     "name": "stdout",
     "output_type": "stream",
     "text": [
      "Polynomial has no modulo specified - no changes made.\n",
      "(2x^6 + 20x^5 + 35x^3 - 2x^2 - 5)\n",
      "(2x^6 + 2x^5 + 2x^3 + 1x^2 + 1) mod 3\n",
      "(10.0x^1 - 2.0) mod (1x^2 - 5)\n"
     ]
    }
   ],
   "source": [
    "# no mod specified - nothing happens\n",
    "poly = ftk_expanded.Polynomial( [2, 20, 0, 35, -2, 0, -5], None )\n",
    "poly.check_poly_mod()\n",
    "print(poly)\n",
    "\n",
    "# integer mod specified - values change\n",
    "poly = ftk_expanded.Polynomial( [2, 20, 0, 35, -2, 0, -5], 3 )\n",
    "poly.check_poly_mod()\n",
    "print(poly)\n",
    "\n",
    "# poly mod specified - poly div used and remainder becomes new polynomial\n",
    "p_mod = ftk_expanded.Polynomial( [1, 0, -5], None ) # 1x^2 - 5\n",
    "#print(p_mod)\n",
    "poly = ftk_expanded.Polynomial( [2, -1, 0, 3], p_mod )\n",
    "poly.check_poly_mod()\n",
    "print(poly)"
   ]
  }
 ],
 "metadata": {
  "kernelspec": {
   "display_name": "Python 3 (ipykernel)",
   "language": "python",
   "name": "python3"
  },
  "language_info": {
   "codemirror_mode": {
    "name": "ipython",
    "version": 3
   },
   "file_extension": ".py",
   "mimetype": "text/x-python",
   "name": "python",
   "nbconvert_exporter": "python",
   "pygments_lexer": "ipython3",
   "version": "3.10.10"
  }
 },
 "nbformat": 4,
 "nbformat_minor": 5
}
